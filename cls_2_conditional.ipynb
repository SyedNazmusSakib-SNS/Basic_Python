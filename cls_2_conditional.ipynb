{
 "cells": [
  {
   "cell_type": "markdown",
   "id": "ea20bad1",
   "metadata": {},
   "source": [
    "# Python Conditionals: From Beginner to Pro\n",
    "\n",
    "## Table of Contents\n",
    "1. [Introduction to Conditionals](#introduction-to-conditionals)\n",
    "2. [Basic If Statements](#basic-if-statements)\n",
    "3. [If-Else Statements](#if-else-statements)\n",
    "4. [If-Elif-Else Chains](#if-elif-else-chains)\n",
    "5. [Logical Operators](#logical-operators)\n",
    "6. [Comparison Operators](#comparison-operators)\n",
    "7. [Nested Conditionals](#nested-conditionals)\n",
    "8. [Conditional Expressions (Ternary Operator)](#conditional-expressions)\n",
    "9. [Common Pitfalls and Best Practices](#common-pitfalls-and-best-practices)\n",
    "10. [Practice Problems](#practice-problems)\n",
    "11. [Advanced Techniques](#advanced-techniques)\n",
    "12. [Real-world Applications](#real-world-applications)"
   ]
  },
  {
   "cell_type": "markdown",
   "id": "2874d12e",
   "metadata": {},
   "source": [
    "## Introduction to Conditionals\n",
    "\n",
    "### What are conditionals?\n",
    "Conditionals are programming constructs that allow your program to make decisions based on certain conditions. They control the flow of execution in your code, enabling different actions depending on whether specific conditions are true or false."
   ]
  },
  {
   "cell_type": "markdown",
   "id": "d9bda71f",
   "metadata": {},
   "source": [
    "### Why do we need conditionals?\n",
    "Imagine a world without decisions - everything would proceed in a linear fashion, with no ability to respond to different situations. In programming, conditionals give our programs the ability to:\n",
    "- Respond to user input\n",
    "- Handle different scenarios\n",
    "- Validate data\n",
    "- Create branching logic"
   ]
  },
  {
   "cell_type": "markdown",
   "id": "0827392b",
   "metadata": {},
   "source": [
    "### Thinking about conditionals in everyday life\n",
    "Before we dive into Python syntax, let's think about conditionals in our daily routines:\n",
    "- If it's raining, take an umbrella\n",
    "- If it's cold, wear a jacket; otherwise, wear a t-shirt\n",
    "- If it's morning, have breakfast; else if it's noon, have lunch; else if it's evening, have dinner"
   ]
  },
  {
   "cell_type": "markdown",
   "id": "e0780604",
   "metadata": {},
   "source": [
    "## Basic If Statements\n",
    "\n",
    "The simplest form of a conditional is the `if` statement. It executes a block of code only if a specified condition is true.\n",
    "\n",
    "### Syntax\n",
    "```python\n",
    "if condition:\n",
    "    \n",
    "\n",
    "    # Code to execute if condition is True\n",
    "    statement1\n",
    "    statement2\n",
    "    # etc...\n",
    "```"
   ]
  },
  {
   "cell_type": "markdown",
   "id": "a54f5b8d",
   "metadata": {},
   "source": [
    "\n",
    "Important notes:\n",
    "- The condition must evaluate to a boolean value (True or False)\n",
    "- The colon `:` is essential\n",
    "- The indentation (usually 4 spaces) defines the code block\n",
    "- All indented lines after the `if` statement are executed only if the condition is True"
   ]
  },
  {
   "cell_type": "markdown",
   "id": "7a0a5a16",
   "metadata": {},
   "source": [
    "### Example 1: Basic If Statement"
   ]
  },
  {
   "cell_type": "code",
   "execution_count": 13,
   "id": "dbd1cff6",
   "metadata": {},
   "outputs": [],
   "source": [
    "num = int(input())"
   ]
  },
  {
   "cell_type": "code",
   "execution_count": 14,
   "id": "ca4c3f1f",
   "metadata": {},
   "outputs": [
    {
     "name": "stdout",
     "output_type": "stream",
     "text": [
      "20\n"
     ]
    }
   ],
   "source": [
    "print(num)"
   ]
  },
  {
   "cell_type": "markdown",
   "id": "3ec85c0d",
   "metadata": {},
   "source": [
    "print(num)"
   ]
  },
  {
   "cell_type": "code",
   "execution_count": null,
   "id": "df88bc17",
   "metadata": {},
   "outputs": [],
   "source": [
    "float\n",
    "int \n",
    "str\n",
    "bool "
   ]
  },
  {
   "cell_type": "markdown",
   "id": "a06a3a8b",
   "metadata": {},
   "source": [
    "- We generally take input through the Function : input()\n",
    "- but input() takes input as str \n",
    "- if we want to take input as integar or float or boolean then we have to specify that before the input() Function like int(input), float(input), bool(input)."
   ]
  },
  {
   "cell_type": "code",
   "execution_count": null,
   "id": "53fc2e72",
   "metadata": {},
   "outputs": [
    {
     "name": "stdout",
     "output_type": "stream",
     "text": [
      "Pos\n"
     ]
    }
   ],
   "source": [
    "num = float(input())\n",
    "\n",
    "if num > 0:\n",
    "    print(\"Pos\")\n",
    "\n",
    "if num < 0:\n",
    "    print(\"Neg\")"
   ]
  },
  {
   "cell_type": "code",
   "execution_count": 2,
   "id": "af80b1b1",
   "metadata": {},
   "outputs": [
    {
     "name": "stdout",
     "output_type": "stream",
     "text": [
      "Negative Number!!\n"
     ]
    }
   ],
   "source": [
    "num = int(input(\"Sakib: \"))\n",
    "\n",
    "if num > 0:\n",
    "    print(\"Positive Number!!\")\n",
    "\n",
    "if num < 0:\n",
    "    print(\"Negative Number!!\")"
   ]
  },
  {
   "cell_type": "markdown",
   "id": "84dc01e1",
   "metadata": {},
   "source": [
    "### Problem 1: Age Verification\n",
    "Write a program that asks for the user's age and prints a message if they are 18 or older."
   ]
  },
  {
   "cell_type": "code",
   "execution_count": 11,
   "id": "3aefb896",
   "metadata": {},
   "outputs": [
    {
     "name": "stdout",
     "output_type": "stream",
     "text": [
      "You are Below 18!!!\n"
     ]
    }
   ],
   "source": [
    "user_age = float(input(\"Please Enter your Age: \"))\n",
    "\n",
    "\n",
    "\n",
    "# all FLoats are Integars but no integars are floats.\n",
    "\n",
    "if user_age > 18 :\n",
    "    print(\"You are an Adult!!\")\n",
    "\n",
    "if user_age < 18:\n",
    "    print(\"You are Below 18!!!\")"
   ]
  },
  {
   "cell_type": "markdown",
   "id": "c38bce4e",
   "metadata": {},
   "source": [
    "## If-Else Statements\n",
    "\n",
    "What if we want to execute one block of code if a condition is True, and another block if it's False? That's where `if-else` statements come in.\n",
    "\n",
    "### Syntax\n",
    "```python\n",
    "if condition:\n",
    "    # Code to execute if condition is True\n",
    "    statement1\n",
    "else:\n",
    "    # Code to execute if condition is False\n",
    "    statement2\n",
    "```"
   ]
  },
  {
   "cell_type": "markdown",
   "id": "7409c7dc",
   "metadata": {},
   "source": [
    "- \"==\" is equal mean kore\n",
    "- \"!=\" is not equal mean kore"
   ]
  },
  {
   "cell_type": "markdown",
   "id": "6633b7fb",
   "metadata": {},
   "source": [
    "### Example 2: If-Else Statement"
   ]
  },
  {
   "cell_type": "markdown",
   "id": "cd176373",
   "metadata": {},
   "source": [
    "even --> num%2 == 0"
   ]
  },
  {
   "cell_type": "code",
   "execution_count": 22,
   "id": "a8712be5",
   "metadata": {},
   "outputs": [
    {
     "name": "stdout",
     "output_type": "stream",
     "text": [
      "Even NUnmber\n"
     ]
    }
   ],
   "source": [
    "num = int(input())\n",
    "\n",
    "if num%2 == 0:\n",
    "    print(\"Even NUnmber\")\n",
    "else:\n",
    "    print(\"Odd Number!!\")"
   ]
  },
  {
   "cell_type": "markdown",
   "id": "4cd33a9d",
   "metadata": {},
   "source": [
    "- \"/\" --> this is normal Division\n",
    "- \"//\" --> This is Integer Division"
   ]
  },
  {
   "cell_type": "markdown",
   "id": "a277d637",
   "metadata": {},
   "source": [
    "- \"/\" and \"//\" but when the answer we want is integar then we will use \"//\"\n"
   ]
  },
  {
   "cell_type": "code",
   "execution_count": 17,
   "id": "8f327921",
   "metadata": {},
   "outputs": [
    {
     "name": "stdout",
     "output_type": "stream",
     "text": [
      "Dividing 5 by 2:  2.5\n",
      "Dividing 5 by 2(Integer Division):  2\n"
     ]
    }
   ],
   "source": [
    "print(\"Dividing 5 by 2: \", 5/2)\n",
    "print(\"Dividing 5 by 2(Integer Division): \", 5//2)"
   ]
  },
  {
   "cell_type": "code",
   "execution_count": 18,
   "id": "4d7386a2",
   "metadata": {},
   "outputs": [
    {
     "name": "stdout",
     "output_type": "stream",
     "text": [
      "dividing 9 by 2: Reminder:  1\n"
     ]
    }
   ],
   "source": [
    "print(\"dividing 9 by 2: Reminder: \", 9%2)"
   ]
  },
  {
   "cell_type": "markdown",
   "id": "68c64619",
   "metadata": {},
   "source": [
    "### Problem 2: Password Check\n",
    "Write a program that asks for a password and prints \"Access granted\" if the password is \"python123\", otherwise print \"Access denied\"."
   ]
  },
  {
   "cell_type": "code",
   "execution_count": 24,
   "id": "eff2e2fd",
   "metadata": {},
   "outputs": [
    {
     "name": "stdout",
     "output_type": "stream",
     "text": [
      "Access Granted!!\n"
     ]
    }
   ],
   "source": [
    "password = input()\n",
    "\n",
    "if password == \"python123\":\n",
    "    print(\"Access Granted!!\")\n",
    "else:\n",
    "    print(\"Access Denied!!\")"
   ]
  },
  {
   "cell_type": "code",
   "execution_count": null,
   "id": "0165e30f",
   "metadata": {},
   "outputs": [],
   "source": [
    "if\n",
    "elif x 10000000000\n",
    "else\n"
   ]
  },
  {
   "cell_type": "markdown",
   "id": "e5212390",
   "metadata": {},
   "source": [
    "## If-Elif-Else Chains\n",
    "\n",
    "Often we need to check multiple conditions. The `elif` (short for \"else if\") statement allows us to check additional conditions if the previous ones are False.\n",
    "\n",
    "### Syntax\n",
    "```python\n",
    "if condition1:\n",
    "    # Code if condition1 is True\n",
    "    statement1\n",
    "elif condition2:\n",
    "    # Code if condition1 is False AND condition2 is True\n",
    "    statement2\n",
    "elif condition3:\n",
    "    # Code if condition1 and condition2 are False AND condition3 is True\n",
    "    statement3\n",
    "else:\n",
    "    # Code if all conditions are False\n",
    "    statement4\n",
    "```"
   ]
  },
  {
   "cell_type": "markdown",
   "id": "0a9e3003",
   "metadata": {},
   "source": [
    "Important notes:\n",
    "- You can have any number of `elif` clauses\n",
    "- The `else` clause is optional\n",
    "- Python checks conditions in order and executes the first block where the condition is True\n",
    "- Once a condition is satisfied, the rest of the conditions are not checked"
   ]
  },
  {
   "cell_type": "markdown",
   "id": "110ad265",
   "metadata": {},
   "source": [
    "- < 0 --> Ice\n",
    "- > 100 --> Gas\n",
    "- >0 and < 100 --> Liquid"
   ]
  },
  {
   "attachments": {
    "image.png": {
     "image/png": "[encoded data removed]"
    }
   },
   "cell_type": "markdown",
   "id": "ae8d828c",
   "metadata": {},
   "source": [
    "![image.png](attachment:image.png)"
   ]
  },
  {
   "cell_type": "markdown",
   "id": "80a9e1c9",
   "metadata": {},
   "source": [
    "### Example 3: If-Elif-Else Chain\n"
   ]
  },
  {
   "cell_type": "code",
   "execution_count": null,
   "id": "6a81148f",
   "metadata": {},
   "outputs": [],
   "source": [
    "85 > 0 ? --> Yes\n",
    "and\n",
    "85 < 100 --> Yes"
   ]
  },
  {
   "cell_type": "code",
   "execution_count": null,
   "id": "d00101b6",
   "metadata": {},
   "outputs": [
    {
     "name": "stdout",
     "output_type": "stream",
     "text": [
      "Gas\n"
     ]
    }
   ],
   "source": [
    "temp = 105\n",
    "\n",
    "if temp > 0 and temp < 100:\n",
    "    print(\"Liquid\")\n",
    "elif temp < 0:\n",
    "    print(\"Ice\")\n",
    "else:\n",
    "    print(\"Gas\")"
   ]
  },
  {
   "cell_type": "code",
   "execution_count": null,
   "id": "5c48fa6c",
   "metadata": {},
   "outputs": [],
   "source": []
  },
  {
   "cell_type": "markdown",
   "id": "ba74280d",
   "metadata": {},
   "source": [
    "### Problem 3: Grade Calculator\n",
    "Write a program that asks for a numerical score (0-100) and prints the corresponding letter grade:\n",
    "- A: 90-100\n",
    "- B: 80-89\n",
    "- C: 70-79\n",
    "- D: 60-69\n",
    "- F: 0-59"
   ]
  },
  {
   "cell_type": "markdown",
   "id": "cd32d0c8",
   "metadata": {},
   "source": [
    "## Comparison Operators\n",
    "\n",
    "To form conditions, we need comparison operators that evaluate to True or False:\n",
    "\n",
    "| Operator | Description | Example |\n",
    "|----------|-------------|---------|\n",
    "| `==` | Equal to | `x == y` |\n",
    "| `!=` | Not equal to | `x != y` |\n",
    "| `>` | Greater than | `x > y` |\n",
    "| `<` | Less than | `x < y` |\n",
    "| `>=` | Greater than or equal to | `x >= y` |\n",
    "| `<=` | Less than or equal to | `x <= y` |"
   ]
  },
  {
   "cell_type": "markdown",
   "id": "1b49c531",
   "metadata": {},
   "source": [
    "### Example 4: Comparison Operators"
   ]
  },
  {
   "cell_type": "markdown",
   "id": "1b09d5d1",
   "metadata": {},
   "source": [
    "### Problem 4: Number Comparison\n",
    "Write a program that takes two numbers and prints whether the first number is greater than, less than, or equal to the second number."
   ]
  },
  {
   "cell_type": "markdown",
   "id": "9eca9358",
   "metadata": {},
   "source": [
    "## Logical Operators\n",
    "\n",
    "Logical operators allow us to combine multiple conditions:\n",
    "\n",
    "| Operator | Description | Example |\n",
    "|----------|-------------|---------|\n",
    "| `and` | True if both conditions are True | `x > 0 and x < 10` |\n",
    "| `or` | True if at least one condition is True | `x < 0 or x > 10` |\n",
    "| `not` | True if condition is False, and vice versa | `not(x == y)` |"
   ]
  },
  {
   "cell_type": "markdown",
   "id": "952b8f54",
   "metadata": {},
   "source": [
    "### Example 5: Logical Operators\n"
   ]
  },
  {
   "cell_type": "markdown",
   "id": "1dc7f2a6",
   "metadata": {},
   "source": [
    "### Problem 5: Eligibility Check\n",
    "Write a program that determines if a person is eligible to vote. They must be at least 18 years old AND be a citizen."
   ]
  },
  {
   "cell_type": "markdown",
   "id": "b618747f",
   "metadata": {},
   "source": [
    "## Nested Conditionals\n",
    "\n",
    "Conditionals can be nested inside other conditionals, creating more complex decision trees.\n",
    "\n",
    "### Syntax\n",
    "```python\n",
    "if outer_condition:\n",
    "    # Outer condition code\n",
    "    if inner_condition:\n",
    "        # Inner condition code\n",
    "    else:\n",
    "        # Inner else code\n",
    "else:\n",
    "    # Outer else code\n",
    "```"
   ]
  },
  {
   "cell_type": "markdown",
   "id": "c0e4261f",
   "metadata": {},
   "source": [
    "### Example 6: Nested Conditionals\n"
   ]
  },
  {
   "cell_type": "markdown",
   "id": "e22dfb2c",
   "metadata": {},
   "source": [
    "### Problem 6: Loan Approval\n",
    "Write a program that determines if a loan should be approved. A loan is approved if the person has a good credit score (>700) AND either has a high income (>50000) or has been employed for more than 2 years."
   ]
  },
  {
   "cell_type": "markdown",
   "id": "ea8bd675",
   "metadata": {},
   "source": [
    "## Conditional Expressions\n",
    "\n",
    "Python offers a compact way to write simple if-else statements, known as conditional expressions or the ternary operator.\n",
    "\n",
    "### Syntax\n",
    "```python\n",
    "value_if_true if condition else value_if_false\n",
    "```"
   ]
  },
  {
   "cell_type": "markdown",
   "id": "23e933c8",
   "metadata": {},
   "source": [
    "### Example 7: Conditional Expression\n"
   ]
  },
  {
   "cell_type": "markdown",
   "id": "e97628e5",
   "metadata": {},
   "source": [
    "### Problem 7: Absolute Value\n",
    "Write a program that calculates the absolute value of a number using a conditional expression."
   ]
  },
  {
   "cell_type": "markdown",
   "id": "3f75445e",
   "metadata": {},
   "source": [
    "## Common Pitfalls and Best Practices"
   ]
  },
  {
   "cell_type": "markdown",
   "id": "6fbbbb1a",
   "metadata": {},
   "source": [
    "### Pitfall 1: Using `=` instead of `==`"
   ]
  },
  {
   "cell_type": "markdown",
   "id": "fdcefb0d",
   "metadata": {},
   "source": [
    "### Pitfall 2: Forgetting the colon"
   ]
  },
  {
   "cell_type": "markdown",
   "id": "acfe7441",
   "metadata": {},
   "source": [
    "### Pitfall 3: Incorrect indentation"
   ]
  },
  {
   "cell_type": "markdown",
   "id": "095912a2",
   "metadata": {},
   "source": [
    "### Best Practice 1: Keep conditions simple"
   ]
  },
  {
   "cell_type": "markdown",
   "id": "adb5cd87",
   "metadata": {},
   "source": [
    "### Best Practice 2: Use `is` for identity check, `==` for equality"
   ]
  },
  {
   "cell_type": "markdown",
   "id": "d3508905",
   "metadata": {},
   "source": [
    "### Best Practice 3: Avoid nested conditionals when possible\n"
   ]
  },
  {
   "cell_type": "markdown",
   "id": "326e57f3",
   "metadata": {},
   "source": [
    "## Practice Problems\n",
    "\n",
    "### Problem 8: Leap Year (Easy)\n",
    "Write a program that determines if a given year is a leap year.\n",
    "- A leap year is divisible by 4\n",
    "- But if it's divisible by 100, it's not a leap year\n",
    "- Unless it's also divisible by 400, then it is a leap year"
   ]
  },
  {
   "cell_type": "markdown",
   "id": "6b102f5a",
   "metadata": {},
   "source": [
    "### Problem 9: BMI Calculator (Easy)\n",
    "Write a program that calculates BMI (Body Mass Index) and prints the corresponding category:\n",
    "- Below 18.5: Underweight\n",
    "- 18.5 - 24.9: Normal weight\n",
    "- 25 - 29.9: Overweight\n",
    "- 30 and above: Obesity"
   ]
  },
  {
   "cell_type": "markdown",
   "id": "d2780178",
   "metadata": {},
   "source": [
    "### Problem 10: Triangle Type (Medium)\n",
    "Write a program that determines if three sides can form a triangle, and if so, what type of triangle (equilateral, isosceles, or scalene).\n",
    "- A triangle can be formed if the sum of any two sides is greater than the third side\n",
    "- Equilateral: all sides are equal\n",
    "- Isosceles: exactly two sides are equal\n",
    "- Scalene: no sides are equal"
   ]
  },
  {
   "cell_type": "markdown",
   "id": "4db6c905",
   "metadata": {},
   "source": [
    "### Problem 11: Tax Calculator (Medium)\n",
    "Create a function that calculates income tax based on different income brackets:\n",
    "- $0-$10,000: 10%\n",
    "- $10,001-$50,000: 20%\n",
    "- $50,001 and above: 30%"
   ]
  },
  {
   "cell_type": "markdown",
   "id": "327500ba",
   "metadata": {},
   "source": [
    "### Problem 12: Password Strength Checker (Medium-Hard)\n",
    "Write a program that checks if a password is strong based on these criteria:\n",
    "- At least 8 characters long\n",
    "- Contains at least one uppercase letter\n",
    "- Contains at least one lowercase letter\n",
    "- Contains at least one digit\n",
    "- Contains at least one special character from !@#$%^&*()"
   ]
  },
  {
   "cell_type": "markdown",
   "id": "52a8bcd3",
   "metadata": {},
   "source": [
    "### Problem 13: Date Validator (Hard)\n",
    "Create a function that checks if a given date is valid, considering leap years and varying month lengths."
   ]
  },
  {
   "cell_type": "markdown",
   "id": "d6d26767",
   "metadata": {},
   "source": [
    "### Problem 14: Rock, Paper, Scissors Game (Medium)\n",
    "Implement a function that determines the winner of Rock, Paper, Scissors based on two player inputs."
   ]
  },
  {
   "cell_type": "markdown",
   "id": "64826ceb",
   "metadata": {},
   "source": [
    "### Problem 15: ATM Simulator (Hard)\n",
    "Write a function that simulates a simple ATM, handling account balance, withdrawal amount, and daily limits with appropriate error messages."
   ]
  },
  {
   "cell_type": "markdown",
   "id": "53c37a30",
   "metadata": {},
   "source": [
    "## Real-world Applications\n"
   ]
  },
  {
   "cell_type": "markdown",
   "id": "5fcc0bde",
   "metadata": {},
   "source": [
    "### 1. Form Validation\n",
    "\n",
    "```python\n",
    "def validate_form(username, email, password, confirm_password):\n",
    "    errors = []\n",
    "    \n",
    "    # Username validation\n",
    "    if len(username) < 3:\n",
    "        errors.append(\"Username must be at least 3 characters long\")\n",
    "    \n",
    "    # Email validation (simple check)\n",
    "    if \"@\" not in email or \".\" not in email:\n",
    "        errors.append(\"Invalid email format\")\n",
    "    \n",
    "    # Password validation\n",
    "    if len(password) < 8:\n",
    "        errors.append(\"Password must be at least 8 characters long\")\n",
    "    \n",
    "    # Password confirmation\n",
    "    if password != confirm_password:\n",
    "        errors.append(\"Passwords do not match\")\n",
    "    \n",
    "    # Return results\n",
    "    if errors:\n",
    "        return False, errors\n",
    "    else:\n",
    "        return True, [\"Form submitted successfully!\"]\n",
    "```"
   ]
  },
  {
   "cell_type": "markdown",
   "id": "07e823ac",
   "metadata": {},
   "source": [
    "### 2. Data Processing\n",
    "\n",
    "```python\n",
    "def categorize_data(data_points):\n",
    "    categories = {\n",
    "        \"low\": 0,\n",
    "        \"medium\": 0,\n",
    "        \"high\": 0\n",
    "    }\n",
    "    \n",
    "    for value in data_points:\n",
    "        if value < 30:\n",
    "            categories[\"low\"] += 1\n",
    "        elif value < 70:\n",
    "            categories[\"medium\"] += 1\n",
    "        else:\n",
    "            categories[\"high\"] += 1\n",
    "    \n",
    "    return categories\n",
    "```"
   ]
  },
  {
   "cell_type": "markdown",
   "id": "fd8becae",
   "metadata": {},
   "source": [
    "### 3. Game Logic\n",
    "\n",
    "```python\n",
    "def update_player_status(player):\n",
    "    # Update health based on conditions\n",
    "    if player[\"poison\"]:\n",
    "        player[\"health\"] -= 5\n",
    "    \n",
    "    # Check if player has leveled up\n",
    "    if player[\"experience\"] >= 100:\n",
    "        player[\"level\"] += 1\n",
    "        player[\"experience\"] -= 100\n",
    "        print(f\"Level up! You are now level {player['level']}\")\n",
    "    \n",
    "    # Check if player is dead\n",
    "    if player[\"health\"] <= 0:\n",
    "        player[\"status\"] = \"dead\"\n",
    "        print(\"Game over!\")\n",
    "    \n",
    "    return player\n",
    "```"
   ]
  },
  {
   "cell_type": "markdown",
   "id": "ec320dbb",
   "metadata": {},
   "source": [
    "\n",
    "### 4. Command-Line Interface\n",
    "\n",
    "```python\n",
    "def process_command(command):\n",
    "    command = command.lower().strip()\n",
    "    \n",
    "    if command == \"help\":\n",
    "        print(\"Available commands: help, status, quit\")\n",
    "    elif command == \"status\":\n",
    "        print(\"System is running normally\")\n",
    "    elif command == \"quit\":\n",
    "        print(\"Exiting program...\")\n",
    "        return False\n",
    "    else:\n",
    "        print(f\"Unknown command: {command}\")\n",
    "    \n",
    "    return True\n",
    "```"
   ]
  },
  {
   "cell_type": "markdown",
   "id": "e22656db",
   "metadata": {},
   "source": [
    "## Conclusion\n",
    "\n",
    "In this lecture, we've covered Python conditionals from the most basic concepts to advanced techniques:\n",
    "\n",
    "1. We started with simple `if` statements\n",
    "2. We progressed to `if-else` and `if-elif-else` chains\n",
    "3. We explored comparison and logical operators\n",
    "4. We learned about nested conditionals and conditional expressions\n",
    "5. We reviewed common pitfalls and best practices\n",
    "6. We solved progressively more challenging problems\n",
    "7. We explored advanced techniques and real-world applications\n",
    "\n",
    "Conditionals are the foundation of decision-making in programming. Mastering them is essential to creating dynamic, responsive programs that can adapt to different situations. Keep practicing with the problems provided, and try to create your own conditionals to solve new challenges!"
   ]
  }
 ],
 "metadata": {
  "kernelspec": {
   "display_name": "base",
   "language": "python",
   "name": "python3"
  },
  "language_info": {
   "codemirror_mode": {
    "name": "ipython",
    "version": 3
   },
   "file_extension": ".py",
   "mimetype": "text/x-python",
   "name": "python",
   "nbconvert_exporter": "python",
   "pygments_lexer": "ipython3",
   "version": "3.12.4"
  }
 },
 "nbformat": 4,
 "nbformat_minor": 5
}
